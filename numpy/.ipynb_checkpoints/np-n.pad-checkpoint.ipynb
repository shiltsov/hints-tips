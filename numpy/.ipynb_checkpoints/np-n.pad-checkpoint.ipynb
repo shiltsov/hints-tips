{
 "cells": [
  {
   "cell_type": "markdown",
   "metadata": {},
   "source": [
    "## Некоторые функции numpy по мотивам conv-nn\n",
    "    np.pad"
   ]
  },
  {
   "cell_type": "markdown",
   "metadata": {},
   "source": [
    "## np.pad(array, pad_width, mode='constant', ...)"
   ]
  },
  {
   "cell_type": "code",
   "execution_count": 3,
   "metadata": {},
   "outputs": [],
   "source": [
    "import numpy as np"
   ]
  },
  {
   "cell_type": "code",
   "execution_count": 10,
   "metadata": {},
   "outputs": [
    {
     "data": {
      "text/plain": [
       "array([[[0., 0.],\n",
       "        [0., 0.]],\n",
       "\n",
       "       [[0., 0.],\n",
       "        [0., 0.]]])"
      ]
     },
     "execution_count": 10,
     "metadata": {},
     "output_type": "execute_result"
    }
   ],
   "source": [
    "a = np.zeros((2,2,2))\n",
    "a"
   ]
  },
  {
   "cell_type": "code",
   "execution_count": 12,
   "metadata": {},
   "outputs": [
    {
     "data": {
      "text/plain": [
       "array([[[1., 1., 1., 1.],\n",
       "        [1., 1., 1., 1.],\n",
       "        [1., 1., 1., 1.],\n",
       "        [1., 1., 1., 1.]],\n",
       "\n",
       "       [[1., 1., 1., 1.],\n",
       "        [1., 0., 0., 1.],\n",
       "        [1., 0., 0., 1.],\n",
       "        [1., 1., 1., 1.]],\n",
       "\n",
       "       [[1., 1., 1., 1.],\n",
       "        [1., 0., 0., 1.],\n",
       "        [1., 0., 0., 1.],\n",
       "        [1., 1., 1., 1.]],\n",
       "\n",
       "       [[1., 1., 1., 1.],\n",
       "        [1., 1., 1., 1.],\n",
       "        [1., 1., 1., 1.],\n",
       "        [1., 1., 1., 1.]]])"
      ]
     },
     "execution_count": 12,
     "metadata": {},
     "output_type": "execute_result"
    }
   ],
   "source": [
    "# нужно понимать что по сути он еще по размерности добавляет если по слоям падинги не указывать\n",
    "b = np.pad(a, 1, 'constant', constant_values=1)\n",
    "b"
   ]
  },
  {
   "cell_type": "code",
   "execution_count": 19,
   "metadata": {},
   "outputs": [
    {
     "data": {
      "text/plain": [
       "array([[[1., 1., 1., 2.],\n",
       "        [1., 0., 0., 2.],\n",
       "        [1., 0., 0., 2.],\n",
       "        [1., 2., 2., 2.]],\n",
       "\n",
       "       [[1., 1., 1., 2.],\n",
       "        [1., 0., 0., 2.],\n",
       "        [1., 0., 0., 2.],\n",
       "        [1., 2., 2., 2.]]])"
      ]
     },
     "execution_count": 19,
     "metadata": {},
     "output_type": "execute_result"
    }
   ],
   "source": [
    "# constant_values=(1,2) - слева 1 справа 2\n",
    "c = np.pad(a, ((0,0),(1,1),(1,1)), 'constant', constant_values=(1,2))\n",
    "c"
   ]
  },
  {
   "cell_type": "code",
   "execution_count": 23,
   "metadata": {},
   "outputs": [
    {
     "data": {
      "text/plain": [
       "array([[[ 5.,  3.,  3.,  6.],\n",
       "        [ 5., -1., -1.,  6.],\n",
       "        [ 5., -1., -1.,  6.],\n",
       "        [ 5.,  4.,  4.,  6.]],\n",
       "\n",
       "       [[ 5.,  3.,  3.,  6.],\n",
       "        [ 5.,  0.,  0.,  6.],\n",
       "        [ 5.,  0.,  0.,  6.],\n",
       "        [ 5.,  4.,  4.,  6.]],\n",
       "\n",
       "       [[ 5.,  3.,  3.,  6.],\n",
       "        [ 5.,  0.,  0.,  6.],\n",
       "        [ 5.,  0.,  0.,  6.],\n",
       "        [ 5.,  4.,  4.,  6.]],\n",
       "\n",
       "       [[ 5.,  3.,  3.,  6.],\n",
       "        [ 5., -2., -2.,  6.],\n",
       "        [ 5., -2., -2.,  6.],\n",
       "        [ 5.,  4.,  4.,  6.]]])"
      ]
     },
     "execution_count": 23,
     "metadata": {},
     "output_type": "execute_result"
    }
   ],
   "source": [
    "# constant_values=((-1,-2),(3,4),(5,6)) - если хоти задать и левый и правый по каждому слою\n",
    "d = np.pad(a, ((1,1),(1,1),(1,1)), 'constant', constant_values=((-1,-2),(3,4),(5,6)))\n",
    "d"
   ]
  },
  {
   "cell_type": "code",
   "execution_count": 24,
   "metadata": {},
   "outputs": [
    {
     "data": {
      "text/plain": [
       "220.0"
      ]
     },
     "execution_count": 24,
     "metadata": {},
     "output_type": "execute_result"
    }
   ],
   "source": [
    "np.sum(d)"
   ]
  },
  {
   "cell_type": "code",
   "execution_count": 28,
   "metadata": {},
   "outputs": [
    {
     "data": {
      "text/plain": [
       "array([[[1.06087903]]])"
      ]
     },
     "execution_count": 28,
     "metadata": {},
     "output_type": "execute_result"
    }
   ],
   "source": [
    "b = np.random.randn(1, 1, 1)\n",
    "b"
   ]
  },
  {
   "cell_type": "code",
   "execution_count": null,
   "metadata": {},
   "outputs": [],
   "source": []
  }
 ],
 "metadata": {
  "kernelspec": {
   "display_name": "Python 3",
   "language": "python",
   "name": "python3"
  },
  "language_info": {
   "codemirror_mode": {
    "name": "ipython",
    "version": 3
   },
   "file_extension": ".py",
   "mimetype": "text/x-python",
   "name": "python",
   "nbconvert_exporter": "python",
   "pygments_lexer": "ipython3",
   "version": "3.7.6"
  }
 },
 "nbformat": 4,
 "nbformat_minor": 4
}

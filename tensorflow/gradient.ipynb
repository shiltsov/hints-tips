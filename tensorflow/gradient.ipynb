{
 "cells": [
  {
   "cell_type": "code",
   "execution_count": 1,
   "metadata": {},
   "outputs": [],
   "source": [
    "import tensorflow as tf\n",
    "import numpy as np\n",
    "from matplotlib import pylab as plt\n",
    "\n",
    "%matplotlib inline"
   ]
  },
  {
   "cell_type": "code",
   "execution_count": 18,
   "metadata": {},
   "outputs": [
    {
     "name": "stdout",
     "output_type": "stream",
     "text": [
      "Gradient[0]: [0.5403023], x=[-1.005403], y=[-0.34147096]\n",
      "Gradient[100]: [0.21241875], x=[-1.358871], y=[-0.47717875]\n",
      "Gradient[200]: [0.07853229], x=[-1.4929684], y=[-0.4969116]\n",
      "Gradient[300]: [0.02878383], x=[-1.5422964], y=[-0.4995857]\n",
      "Gradient[400]: [0.01053786], x=[-1.5603637], y=[-0.49994445]\n",
      "Gradient[500]: [0.00385708], x=[-1.5669779], y=[-0.49999255]\n",
      "Gradient[600]: [0.00141151], x=[-1.5693989], y=[-0.499999]\n",
      "Gradient[700]: [0.00051673], x=[-1.5702847], y=[-0.49999988]\n",
      "Gradient[800]: [0.00018938], x=[-1.5706089], y=[-0.5]\n",
      "Gradient[900]: [6.933609e-05], x=[-1.5707277], y=[-0.5]\n"
     ]
    }
   ],
   "source": [
    "## поиск минимума ф-ии 1 переменной методом градиентного спуска\n",
    "\n",
    "x = tf.Variable([-1.])\n",
    "lr = 0.01\n",
    "\n",
    "def f(x):\n",
    "    return tf.math.sin(x) + .5\n",
    "    \n",
    "\n",
    "for i in range(1000):\n",
    "    with tf.GradientTape() as tape:\n",
    "        tape.watch(x)\n",
    "        y = f(x)\n",
    "    gradient = tape.gradient(y, x)    \n",
    "    x = x - lr*gradient\n",
    "\n",
    "    if i % 100 == 0:\n",
    "        print('Gradient[{}]: {}, x={}, y={}'. format(i, gradient.numpy(), x.numpy(), y.numpy() ))\n",
    "    "
   ]
  },
  {
   "cell_type": "code",
   "execution_count": 46,
   "metadata": {},
   "outputs": [
    {
     "name": "stdout",
     "output_type": "stream",
     "text": [
      "step[0]: (x, y)=([-1.4486394], [-1.8486395]), z=[3.3463564]\n",
      "step[100]: (x, y)=([-0.58665204], [-4.9376]), z=[-0.62405056]\n",
      "step[200]: (x, y)=([-0.36950123], [-4.7657156]), z=[-0.28183556]\n",
      "step[300]: (x, y)=([-0.380474], [-4.731647]), z=[-0.28867686]\n",
      "step[400]: (x, y)=([-0.38107893], [-4.729822]), z=[-0.2890857]\n",
      "step[500]: (x, y)=([-0.3811103], [-4.729728]), z=[-0.28910714]\n",
      "step[600]: (x, y)=([-0.38111067], [-4.729727]), z=[-0.2891072]\n",
      "step[700]: (x, y)=([-0.38111067], [-4.729727]), z=[-0.2891072]\n",
      "step[800]: (x, y)=([-0.38111067], [-4.729727]), z=[-0.2891072]\n",
      "step[900]: (x, y)=([-0.38111067], [-4.729727]), z=[-0.2891072]\n"
     ]
    }
   ],
   "source": [
    "## ф-я 2-х переменных\n",
    "\n",
    "x = tf.Variable([-2.])\n",
    "y = tf.Variable([-2.])\n",
    "\n",
    "lr = 0.1\n",
    "\n",
    "def f(x, y):\n",
    "    return x**2 + tf.math.cos(x*y)\n",
    "\n",
    "for i in range(1000):\n",
    "    with tf.GradientTape() as tape:\n",
    "        tape.watch(x)\n",
    "        tape.watch(y)\n",
    "        z = f(x, y)\n",
    "    g = tape.gradient(z, [x,y]) # это список их 2-х тензоров\n",
    "    x = x - lr*g[0]\n",
    "    y = y - lr*g[1]\n",
    "    \n",
    "    if i % 100 == 0:\n",
    "        print('step[{}]: (x, y)=({}, {}), z={}'. format(\n",
    "                    i,  x.numpy(), y.numpy(), z.numpy()))    "
   ]
  },
  {
   "cell_type": "code",
   "execution_count": null,
   "metadata": {},
   "outputs": [],
   "source": []
  }
 ],
 "metadata": {
  "kernelspec": {
   "display_name": "Python 3",
   "language": "python",
   "name": "python3"
  },
  "language_info": {
   "codemirror_mode": {
    "name": "ipython",
    "version": 3
   },
   "file_extension": ".py",
   "mimetype": "text/x-python",
   "name": "python",
   "nbconvert_exporter": "python",
   "pygments_lexer": "ipython3",
   "version": "3.7.6"
  }
 },
 "nbformat": 4,
 "nbformat_minor": 4
}
